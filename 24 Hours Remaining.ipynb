{
 "cells": [
  {
   "cell_type": "code",
   "execution_count": 12,
   "id": "09ca6ac2-3df3-4913-a771-74ecbb138556",
   "metadata": {},
   "outputs": [],
   "source": [
    "# created a virtual env and installed required libs\n",
    "# %pylab was deprecated, so I have installed matplotlib inline\n",
    "import pandas as pd\n",
    "import matplotlib.pyplot as plt\n",
    "%matplotlib inline"
   ]
  },
  {
   "cell_type": "code",
   "execution_count": 209,
   "id": "2a9890d1-3138-4faa-8c12-36106a813965",
   "metadata": {},
   "outputs": [],
   "source": [
    "# Read 24HoursRemaining.csv file & name Doomsday for Dramatic Effect\n",
    "path = '24HoursRemaining.csv'\n",
    "Doomsday = pd.read_csv(path)"
   ]
  },
  {
   "cell_type": "code",
   "execution_count": 122,
   "id": "519956c1-32c5-4ba9-8b09-4ca311c2b9cb",
   "metadata": {},
   "outputs": [
    {
     "data": {
      "text/html": [
       "<div>\n",
       "<style scoped>\n",
       "    .dataframe tbody tr th:only-of-type {\n",
       "        vertical-align: middle;\n",
       "    }\n",
       "\n",
       "    .dataframe tbody tr th {\n",
       "        vertical-align: top;\n",
       "    }\n",
       "\n",
       "    .dataframe thead th {\n",
       "        text-align: right;\n",
       "    }\n",
       "</style>\n",
       "<table border=\"1\" class=\"dataframe\">\n",
       "  <thead>\n",
       "    <tr style=\"text-align: right;\">\n",
       "      <th></th>\n",
       "      <th>Timestamp</th>\n",
       "      <th>Meet</th>\n",
       "      <th>Activity</th>\n",
       "      <th>Where</th>\n",
       "      <th>Instrument</th>\n",
       "      <th>Celebrity</th>\n",
       "      <th>Conversation</th>\n",
       "      <th>Re-Born</th>\n",
       "    </tr>\n",
       "  </thead>\n",
       "  <tbody>\n",
       "    <tr>\n",
       "      <th>0</th>\n",
       "      <td>15/11/2023 17:30:26</td>\n",
       "      <td>Friends</td>\n",
       "      <td>having as much fun as possible</td>\n",
       "      <td>outside in the natural world</td>\n",
       "      <td>Pipe organ</td>\n",
       "      <td>Stephen Hawking</td>\n",
       "      <td>Scientific / Philisophical</td>\n",
       "      <td>Human</td>\n",
       "    </tr>\n",
       "    <tr>\n",
       "      <th>1</th>\n",
       "      <td>15/11/2023 17:32:21</td>\n",
       "      <td>Partner</td>\n",
       "      <td>having as much fun as possible</td>\n",
       "      <td>outside in the natural world</td>\n",
       "      <td>Pipe organ</td>\n",
       "      <td>Stephen Hawking</td>\n",
       "      <td>Scientific / Philisophical</td>\n",
       "      <td>Human with A.I features</td>\n",
       "    </tr>\n",
       "    <tr>\n",
       "      <th>2</th>\n",
       "      <td>15/11/2023 17:33:29</td>\n",
       "      <td>Family</td>\n",
       "      <td>having an existential crisis</td>\n",
       "      <td>inside on the internet</td>\n",
       "      <td>The Recorder</td>\n",
       "      <td>David Attenborough</td>\n",
       "      <td>Scientific / Philisophical</td>\n",
       "      <td>Human</td>\n",
       "    </tr>\n",
       "    <tr>\n",
       "      <th>3</th>\n",
       "      <td>15/11/2023 17:33:48</td>\n",
       "      <td>Family</td>\n",
       "      <td>having as much fun as possible</td>\n",
       "      <td>outside in the natural world</td>\n",
       "      <td>Pipe organ</td>\n",
       "      <td>Stephen Hawking</td>\n",
       "      <td>Scientific / Philisophical</td>\n",
       "      <td>Human</td>\n",
       "    </tr>\n",
       "    <tr>\n",
       "      <th>4</th>\n",
       "      <td>15/11/2023 18:09:45</td>\n",
       "      <td>Family</td>\n",
       "      <td>having as much fun as possible</td>\n",
       "      <td>outside in the natural world</td>\n",
       "      <td>Pipe organ</td>\n",
       "      <td>Stephen Hawking</td>\n",
       "      <td>Scientific / Philisophical</td>\n",
       "      <td>Human with A.I features</td>\n",
       "    </tr>\n",
       "  </tbody>\n",
       "</table>\n",
       "</div>"
      ],
      "text/plain": [
       "             Timestamp     Meet                        Activity  \\\n",
       "0  15/11/2023 17:30:26  Friends  having as much fun as possible   \n",
       "1  15/11/2023 17:32:21  Partner  having as much fun as possible   \n",
       "2  15/11/2023 17:33:29   Family    having an existential crisis   \n",
       "3  15/11/2023 17:33:48   Family  having as much fun as possible   \n",
       "4  15/11/2023 18:09:45   Family  having as much fun as possible   \n",
       "\n",
       "                          Where    Instrument           Celebrity  \\\n",
       "0  outside in the natural world    Pipe organ     Stephen Hawking   \n",
       "1  outside in the natural world    Pipe organ     Stephen Hawking   \n",
       "2        inside on the internet  The Recorder  David Attenborough   \n",
       "3  outside in the natural world    Pipe organ     Stephen Hawking   \n",
       "4  outside in the natural world    Pipe organ     Stephen Hawking   \n",
       "\n",
       "                 Conversation                  Re-Born  \n",
       "0  Scientific / Philisophical                    Human  \n",
       "1  Scientific / Philisophical  Human with A.I features  \n",
       "2  Scientific / Philisophical                    Human  \n",
       "3  Scientific / Philisophical                    Human  \n",
       "4  Scientific / Philisophical  Human with A.I features  "
      ]
     },
     "execution_count": 122,
     "metadata": {},
     "output_type": "execute_result"
    }
   ],
   "source": [
    "# SECTION 1: RE-CAPPING & TESTING\n",
    "# Looking at the first five rows\n",
    "Doomsday.head()"
   ]
  },
  {
   "cell_type": "code",
   "execution_count": 15,
   "id": "2db97a17-0826-4472-bc63-e94df5898956",
   "metadata": {},
   "outputs": [
    {
     "data": {
      "text/plain": [
       "Index(['Timestamp', 'Meet', 'Activity', 'Where', 'Instrument', 'Celebrity',\n",
       "       'Conversation', 'Re-Born'],\n",
       "      dtype='object')"
      ]
     },
     "execution_count": 15,
     "metadata": {},
     "output_type": "execute_result"
    }
   ],
   "source": [
    "# Looking at the headings only\n",
    "Doomsday.columns"
   ]
  },
  {
   "cell_type": "code",
   "execution_count": 7,
   "id": "51dd945d-69ef-4dc2-bc8a-57451eb53bff",
   "metadata": {},
   "outputs": [
    {
     "data": {
      "text/html": [
       "<div>\n",
       "<style scoped>\n",
       "    .dataframe tbody tr th:only-of-type {\n",
       "        vertical-align: middle;\n",
       "    }\n",
       "\n",
       "    .dataframe tbody tr th {\n",
       "        vertical-align: top;\n",
       "    }\n",
       "\n",
       "    .dataframe thead th {\n",
       "        text-align: right;\n",
       "    }\n",
       "</style>\n",
       "<table border=\"1\" class=\"dataframe\">\n",
       "  <thead>\n",
       "    <tr style=\"text-align: right;\">\n",
       "      <th></th>\n",
       "      <th>Timestamp</th>\n",
       "      <th>Meet</th>\n",
       "      <th>Activity</th>\n",
       "      <th>Where</th>\n",
       "      <th>Instrument</th>\n",
       "      <th>Celebrity</th>\n",
       "      <th>Conversation</th>\n",
       "      <th>Re-Born</th>\n",
       "    </tr>\n",
       "  </thead>\n",
       "  <tbody>\n",
       "    <tr>\n",
       "      <th>0</th>\n",
       "      <td>15/11/2023 17:30:26</td>\n",
       "      <td>Friends</td>\n",
       "      <td>having as much fun as possible</td>\n",
       "      <td>outside in the natural world</td>\n",
       "      <td>Pipe organ</td>\n",
       "      <td>Stephen Hawking</td>\n",
       "      <td>Scientific / Philisophical</td>\n",
       "      <td>Human</td>\n",
       "    </tr>\n",
       "    <tr>\n",
       "      <th>1</th>\n",
       "      <td>15/11/2023 17:32:21</td>\n",
       "      <td>Partner</td>\n",
       "      <td>having as much fun as possible</td>\n",
       "      <td>outside in the natural world</td>\n",
       "      <td>Pipe organ</td>\n",
       "      <td>Stephen Hawking</td>\n",
       "      <td>Scientific / Philisophical</td>\n",
       "      <td>Human with A.I features</td>\n",
       "    </tr>\n",
       "    <tr>\n",
       "      <th>2</th>\n",
       "      <td>15/11/2023 17:33:29</td>\n",
       "      <td>Family</td>\n",
       "      <td>having an existential crisis</td>\n",
       "      <td>inside on the internet</td>\n",
       "      <td>The Recorder</td>\n",
       "      <td>David Attenborough</td>\n",
       "      <td>Scientific / Philisophical</td>\n",
       "      <td>Human</td>\n",
       "    </tr>\n",
       "    <tr>\n",
       "      <th>3</th>\n",
       "      <td>15/11/2023 17:33:48</td>\n",
       "      <td>Family</td>\n",
       "      <td>having as much fun as possible</td>\n",
       "      <td>outside in the natural world</td>\n",
       "      <td>Pipe organ</td>\n",
       "      <td>Stephen Hawking</td>\n",
       "      <td>Scientific / Philisophical</td>\n",
       "      <td>Human</td>\n",
       "    </tr>\n",
       "    <tr>\n",
       "      <th>4</th>\n",
       "      <td>15/11/2023 18:09:45</td>\n",
       "      <td>Family</td>\n",
       "      <td>having as much fun as possible</td>\n",
       "      <td>outside in the natural world</td>\n",
       "      <td>Pipe organ</td>\n",
       "      <td>Stephen Hawking</td>\n",
       "      <td>Scientific / Philisophical</td>\n",
       "      <td>Human with A.I features</td>\n",
       "    </tr>\n",
       "    <tr>\n",
       "      <th>5</th>\n",
       "      <td>15/11/2023 18:17:50</td>\n",
       "      <td>Family</td>\n",
       "      <td>having as much fun as possible</td>\n",
       "      <td>inside on the internet</td>\n",
       "      <td>Pipe organ</td>\n",
       "      <td>Stephen Hawking</td>\n",
       "      <td>Scientific / Philisophical</td>\n",
       "      <td>Human with A.I features</td>\n",
       "    </tr>\n",
       "    <tr>\n",
       "      <th>6</th>\n",
       "      <td>15/11/2023 19:49:17</td>\n",
       "      <td>Friends</td>\n",
       "      <td>having an existential crisis</td>\n",
       "      <td>inside on the internet</td>\n",
       "      <td>The Recorder</td>\n",
       "      <td>Stephen Hawking</td>\n",
       "      <td>Scientific / Philisophical</td>\n",
       "      <td>Human</td>\n",
       "    </tr>\n",
       "    <tr>\n",
       "      <th>7</th>\n",
       "      <td>15/11/2023 22:44:47</td>\n",
       "      <td>Family</td>\n",
       "      <td>attempting to stop the world ending</td>\n",
       "      <td>outside in the natural world</td>\n",
       "      <td>The Recorder</td>\n",
       "      <td>Stephen Hawking</td>\n",
       "      <td>Entertaining / Light-hearted</td>\n",
       "      <td>Human with A.I features</td>\n",
       "    </tr>\n",
       "    <tr>\n",
       "      <th>8</th>\n",
       "      <td>16/11/2023 07:46:54</td>\n",
       "      <td>Partner</td>\n",
       "      <td>having as much fun as possible</td>\n",
       "      <td>outside in the natural world</td>\n",
       "      <td>The Recorder</td>\n",
       "      <td>Stephen Hawking</td>\n",
       "      <td>Scientific / Philisophical</td>\n",
       "      <td>Human</td>\n",
       "    </tr>\n",
       "    <tr>\n",
       "      <th>9</th>\n",
       "      <td>16/11/2023 10:58:15</td>\n",
       "      <td>Family</td>\n",
       "      <td>having as much fun as possible</td>\n",
       "      <td>outside in the natural world</td>\n",
       "      <td>Pipe organ</td>\n",
       "      <td>Stephen Hawking</td>\n",
       "      <td>Entertaining / Light-hearted</td>\n",
       "      <td>Human</td>\n",
       "    </tr>\n",
       "    <tr>\n",
       "      <th>10</th>\n",
       "      <td>16/11/2023 11:02:33</td>\n",
       "      <td>Family</td>\n",
       "      <td>having as much fun as possible</td>\n",
       "      <td>outside in the natural world</td>\n",
       "      <td>The Recorder</td>\n",
       "      <td>Oprah Winfrey</td>\n",
       "      <td>Entertaining / Light-hearted</td>\n",
       "      <td>Human with A.I features</td>\n",
       "    </tr>\n",
       "    <tr>\n",
       "      <th>11</th>\n",
       "      <td>16/11/2023 12:02:22</td>\n",
       "      <td>Nobody</td>\n",
       "      <td>having as much fun as possible</td>\n",
       "      <td>outside in the natural world</td>\n",
       "      <td>Pipe organ</td>\n",
       "      <td>David Attenborough</td>\n",
       "      <td>Scientific / Philisophical</td>\n",
       "      <td>Human</td>\n",
       "    </tr>\n",
       "    <tr>\n",
       "      <th>12</th>\n",
       "      <td>16/11/2023 12:16:39</td>\n",
       "      <td>Family</td>\n",
       "      <td>having as much fun as possible</td>\n",
       "      <td>outside in the natural world</td>\n",
       "      <td>Maracas</td>\n",
       "      <td>Lady Gaga</td>\n",
       "      <td>Scientific / Philisophical</td>\n",
       "      <td>Human</td>\n",
       "    </tr>\n",
       "    <tr>\n",
       "      <th>13</th>\n",
       "      <td>16/11/2023 13:29:34</td>\n",
       "      <td>Family</td>\n",
       "      <td>having as much fun as possible</td>\n",
       "      <td>outside in the natural world</td>\n",
       "      <td>The Recorder</td>\n",
       "      <td>Lady Gaga</td>\n",
       "      <td>Scientific / Philisophical</td>\n",
       "      <td>Human with A.I features</td>\n",
       "    </tr>\n",
       "  </tbody>\n",
       "</table>\n",
       "</div>"
      ],
      "text/plain": [
       "              Timestamp     Meet                             Activity  \\\n",
       "0   15/11/2023 17:30:26  Friends       having as much fun as possible   \n",
       "1   15/11/2023 17:32:21  Partner       having as much fun as possible   \n",
       "2   15/11/2023 17:33:29   Family         having an existential crisis   \n",
       "3   15/11/2023 17:33:48   Family       having as much fun as possible   \n",
       "4   15/11/2023 18:09:45   Family       having as much fun as possible   \n",
       "5   15/11/2023 18:17:50   Family       having as much fun as possible   \n",
       "6   15/11/2023 19:49:17  Friends         having an existential crisis   \n",
       "7   15/11/2023 22:44:47   Family  attempting to stop the world ending   \n",
       "8   16/11/2023 07:46:54  Partner       having as much fun as possible   \n",
       "9   16/11/2023 10:58:15   Family       having as much fun as possible   \n",
       "10  16/11/2023 11:02:33   Family       having as much fun as possible   \n",
       "11  16/11/2023 12:02:22   Nobody       having as much fun as possible   \n",
       "12  16/11/2023 12:16:39   Family       having as much fun as possible   \n",
       "13  16/11/2023 13:29:34   Family       having as much fun as possible   \n",
       "\n",
       "                           Where    Instrument           Celebrity  \\\n",
       "0   outside in the natural world    Pipe organ     Stephen Hawking   \n",
       "1   outside in the natural world    Pipe organ     Stephen Hawking   \n",
       "2         inside on the internet  The Recorder  David Attenborough   \n",
       "3   outside in the natural world    Pipe organ     Stephen Hawking   \n",
       "4   outside in the natural world    Pipe organ     Stephen Hawking   \n",
       "5         inside on the internet    Pipe organ     Stephen Hawking   \n",
       "6         inside on the internet  The Recorder     Stephen Hawking   \n",
       "7   outside in the natural world  The Recorder     Stephen Hawking   \n",
       "8   outside in the natural world  The Recorder     Stephen Hawking   \n",
       "9   outside in the natural world    Pipe organ     Stephen Hawking   \n",
       "10  outside in the natural world  The Recorder       Oprah Winfrey   \n",
       "11  outside in the natural world    Pipe organ  David Attenborough   \n",
       "12  outside in the natural world       Maracas           Lady Gaga   \n",
       "13  outside in the natural world  The Recorder           Lady Gaga   \n",
       "\n",
       "                    Conversation                  Re-Born  \n",
       "0     Scientific / Philisophical                    Human  \n",
       "1     Scientific / Philisophical  Human with A.I features  \n",
       "2     Scientific / Philisophical                    Human  \n",
       "3     Scientific / Philisophical                    Human  \n",
       "4     Scientific / Philisophical  Human with A.I features  \n",
       "5     Scientific / Philisophical  Human with A.I features  \n",
       "6     Scientific / Philisophical                    Human  \n",
       "7   Entertaining / Light-hearted  Human with A.I features  \n",
       "8     Scientific / Philisophical                    Human  \n",
       "9   Entertaining / Light-hearted                    Human  \n",
       "10  Entertaining / Light-hearted  Human with A.I features  \n",
       "11    Scientific / Philisophical                    Human  \n",
       "12    Scientific / Philisophical                    Human  \n",
       "13    Scientific / Philisophical  Human with A.I features  "
      ]
     },
     "metadata": {},
     "output_type": "display_data"
    }
   ],
   "source": [
    "# Looking at all of them\n",
    "display(Doomsday)"
   ]
  },
  {
   "cell_type": "code",
   "execution_count": 16,
   "id": "b919cb26-af3d-4b50-aa14-fa81b322c96d",
   "metadata": {},
   "outputs": [
    {
     "data": {
      "text/plain": [
       "0     Friends\n",
       "1     Partner\n",
       "2      Family\n",
       "3      Family\n",
       "4      Family\n",
       "5      Family\n",
       "6     Friends\n",
       "7      Family\n",
       "8     Partner\n",
       "9      Family\n",
       "10     Family\n",
       "11     Nobody\n",
       "12     Family\n",
       "13     Family\n",
       "Name: Meet, dtype: object"
      ]
     },
     "execution_count": 16,
     "metadata": {},
     "output_type": "execute_result"
    }
   ],
   "source": [
    "# Finding out who my colleagues would rather spend their last 24 hours with\n",
    "Doomsday['Meet']"
   ]
  },
  {
   "cell_type": "code",
   "execution_count": 17,
   "id": "fefe8295-193c-42c5-9055-6be312f410a3",
   "metadata": {},
   "outputs": [
    {
     "data": {
      "text/plain": [
       "0     Friends\n",
       "1     Partner\n",
       "2      Family\n",
       "3      Family\n",
       "4      Family\n",
       "5      Family\n",
       "6     Friends\n",
       "7      Family\n",
       "8     Partner\n",
       "9      Family\n",
       "10     Family\n",
       "11     Nobody\n",
       "12     Family\n",
       "13     Family\n",
       "Name: Meet, dtype: object"
      ]
     },
     "execution_count": 17,
     "metadata": {},
     "output_type": "execute_result"
    }
   ],
   "source": [
    "# I can use dot notation as I have no spaces in my Headings\n",
    "Doomsday.Meet"
   ]
  },
  {
   "cell_type": "code",
   "execution_count": 18,
   "id": "be33ebd8-22c0-4355-940f-32446af86722",
   "metadata": {},
   "outputs": [
    {
     "data": {
      "text/html": [
       "<div>\n",
       "<style scoped>\n",
       "    .dataframe tbody tr th:only-of-type {\n",
       "        vertical-align: middle;\n",
       "    }\n",
       "\n",
       "    .dataframe tbody tr th {\n",
       "        vertical-align: top;\n",
       "    }\n",
       "\n",
       "    .dataframe thead th {\n",
       "        text-align: right;\n",
       "    }\n",
       "</style>\n",
       "<table border=\"1\" class=\"dataframe\">\n",
       "  <thead>\n",
       "    <tr style=\"text-align: right;\">\n",
       "      <th></th>\n",
       "      <th>Timestamp</th>\n",
       "      <th>Meet</th>\n",
       "      <th>Activity</th>\n",
       "      <th>Where</th>\n",
       "      <th>Instrument</th>\n",
       "      <th>Celebrity</th>\n",
       "      <th>Conversation</th>\n",
       "      <th>Re-Born</th>\n",
       "    </tr>\n",
       "  </thead>\n",
       "  <tbody>\n",
       "    <tr>\n",
       "      <th>2</th>\n",
       "      <td>15/11/2023 17:33:29</td>\n",
       "      <td>Family</td>\n",
       "      <td>having an existential crisis</td>\n",
       "      <td>inside on the internet</td>\n",
       "      <td>The Recorder</td>\n",
       "      <td>David Attenborough</td>\n",
       "      <td>Scientific / Philisophical</td>\n",
       "      <td>Human</td>\n",
       "    </tr>\n",
       "    <tr>\n",
       "      <th>3</th>\n",
       "      <td>15/11/2023 17:33:48</td>\n",
       "      <td>Family</td>\n",
       "      <td>having as much fun as possible</td>\n",
       "      <td>outside in the natural world</td>\n",
       "      <td>Pipe organ</td>\n",
       "      <td>Stephen Hawking</td>\n",
       "      <td>Scientific / Philisophical</td>\n",
       "      <td>Human</td>\n",
       "    </tr>\n",
       "    <tr>\n",
       "      <th>4</th>\n",
       "      <td>15/11/2023 18:09:45</td>\n",
       "      <td>Family</td>\n",
       "      <td>having as much fun as possible</td>\n",
       "      <td>outside in the natural world</td>\n",
       "      <td>Pipe organ</td>\n",
       "      <td>Stephen Hawking</td>\n",
       "      <td>Scientific / Philisophical</td>\n",
       "      <td>Human with A.I features</td>\n",
       "    </tr>\n",
       "    <tr>\n",
       "      <th>5</th>\n",
       "      <td>15/11/2023 18:17:50</td>\n",
       "      <td>Family</td>\n",
       "      <td>having as much fun as possible</td>\n",
       "      <td>inside on the internet</td>\n",
       "      <td>Pipe organ</td>\n",
       "      <td>Stephen Hawking</td>\n",
       "      <td>Scientific / Philisophical</td>\n",
       "      <td>Human with A.I features</td>\n",
       "    </tr>\n",
       "    <tr>\n",
       "      <th>7</th>\n",
       "      <td>15/11/2023 22:44:47</td>\n",
       "      <td>Family</td>\n",
       "      <td>attempting to stop the world ending</td>\n",
       "      <td>outside in the natural world</td>\n",
       "      <td>The Recorder</td>\n",
       "      <td>Stephen Hawking</td>\n",
       "      <td>Entertaining / Light-hearted</td>\n",
       "      <td>Human with A.I features</td>\n",
       "    </tr>\n",
       "    <tr>\n",
       "      <th>9</th>\n",
       "      <td>16/11/2023 10:58:15</td>\n",
       "      <td>Family</td>\n",
       "      <td>having as much fun as possible</td>\n",
       "      <td>outside in the natural world</td>\n",
       "      <td>Pipe organ</td>\n",
       "      <td>Stephen Hawking</td>\n",
       "      <td>Entertaining / Light-hearted</td>\n",
       "      <td>Human</td>\n",
       "    </tr>\n",
       "    <tr>\n",
       "      <th>10</th>\n",
       "      <td>16/11/2023 11:02:33</td>\n",
       "      <td>Family</td>\n",
       "      <td>having as much fun as possible</td>\n",
       "      <td>outside in the natural world</td>\n",
       "      <td>The Recorder</td>\n",
       "      <td>Oprah Winfrey</td>\n",
       "      <td>Entertaining / Light-hearted</td>\n",
       "      <td>Human with A.I features</td>\n",
       "    </tr>\n",
       "    <tr>\n",
       "      <th>12</th>\n",
       "      <td>16/11/2023 12:16:39</td>\n",
       "      <td>Family</td>\n",
       "      <td>having as much fun as possible</td>\n",
       "      <td>outside in the natural world</td>\n",
       "      <td>Maracas</td>\n",
       "      <td>Lady Gaga</td>\n",
       "      <td>Scientific / Philisophical</td>\n",
       "      <td>Human</td>\n",
       "    </tr>\n",
       "    <tr>\n",
       "      <th>13</th>\n",
       "      <td>16/11/2023 13:29:34</td>\n",
       "      <td>Family</td>\n",
       "      <td>having as much fun as possible</td>\n",
       "      <td>outside in the natural world</td>\n",
       "      <td>The Recorder</td>\n",
       "      <td>Lady Gaga</td>\n",
       "      <td>Scientific / Philisophical</td>\n",
       "      <td>Human with A.I features</td>\n",
       "    </tr>\n",
       "  </tbody>\n",
       "</table>\n",
       "</div>"
      ],
      "text/plain": [
       "              Timestamp    Meet                             Activity  \\\n",
       "2   15/11/2023 17:33:29  Family         having an existential crisis   \n",
       "3   15/11/2023 17:33:48  Family       having as much fun as possible   \n",
       "4   15/11/2023 18:09:45  Family       having as much fun as possible   \n",
       "5   15/11/2023 18:17:50  Family       having as much fun as possible   \n",
       "7   15/11/2023 22:44:47  Family  attempting to stop the world ending   \n",
       "9   16/11/2023 10:58:15  Family       having as much fun as possible   \n",
       "10  16/11/2023 11:02:33  Family       having as much fun as possible   \n",
       "12  16/11/2023 12:16:39  Family       having as much fun as possible   \n",
       "13  16/11/2023 13:29:34  Family       having as much fun as possible   \n",
       "\n",
       "                           Where    Instrument           Celebrity  \\\n",
       "2         inside on the internet  The Recorder  David Attenborough   \n",
       "3   outside in the natural world    Pipe organ     Stephen Hawking   \n",
       "4   outside in the natural world    Pipe organ     Stephen Hawking   \n",
       "5         inside on the internet    Pipe organ     Stephen Hawking   \n",
       "7   outside in the natural world  The Recorder     Stephen Hawking   \n",
       "9   outside in the natural world    Pipe organ     Stephen Hawking   \n",
       "10  outside in the natural world  The Recorder       Oprah Winfrey   \n",
       "12  outside in the natural world       Maracas           Lady Gaga   \n",
       "13  outside in the natural world  The Recorder           Lady Gaga   \n",
       "\n",
       "                    Conversation                  Re-Born  \n",
       "2     Scientific / Philisophical                    Human  \n",
       "3     Scientific / Philisophical                    Human  \n",
       "4     Scientific / Philisophical  Human with A.I features  \n",
       "5     Scientific / Philisophical  Human with A.I features  \n",
       "7   Entertaining / Light-hearted  Human with A.I features  \n",
       "9   Entertaining / Light-hearted                    Human  \n",
       "10  Entertaining / Light-hearted  Human with A.I features  \n",
       "12    Scientific / Philisophical                    Human  \n",
       "13    Scientific / Philisophical  Human with A.I features  "
      ]
     },
     "execution_count": 18,
     "metadata": {},
     "output_type": "execute_result"
    }
   ],
   "source": [
    "# Finding all the colleagues who would rather meet their Family\n",
    "Doomsday.loc[Doomsday.Meet == 'Family']"
   ]
  },
  {
   "cell_type": "code",
   "execution_count": 21,
   "id": "db3c9d49-413d-41d6-a1ed-7cc2d8e33045",
   "metadata": {},
   "outputs": [
    {
     "data": {
      "text/plain": [
       "Meet\n",
       "Family     9\n",
       "Friends    2\n",
       "Partner    2\n",
       "Nobody     1\n",
       "Name: count, dtype: int64"
      ]
     },
     "execution_count": 21,
     "metadata": {},
     "output_type": "execute_result"
    }
   ],
   "source": [
    "# Counting the number of colleagues that chose each selection\n",
    "Doomsday.Meet.value_counts()"
   ]
  },
  {
   "cell_type": "code",
   "execution_count": 123,
   "id": "05cd94ea-cd0e-46b1-837d-d4aed4fd4e7a",
   "metadata": {},
   "outputs": [],
   "source": [
    "# Getting the outlier \n",
    "meeting_nobody_where = Doomsday.loc[Doomsday.Meet == \"Nobody\", \"Where\"].item()"
   ]
  },
  {
   "cell_type": "code",
   "execution_count": 124,
   "id": "88e21316-ec8d-49dc-8946-b7ad32ebef41",
   "metadata": {},
   "outputs": [
    {
     "name": "stdout",
     "output_type": "stream",
     "text": [
      "outside in the natural world\n"
     ]
    }
   ],
   "source": [
    "# Finding out where the outlier (meeting nobody, would want to spend their time)\n",
    "print(meeting_nobody_where)"
   ]
  },
  {
   "cell_type": "code",
   "execution_count": 167,
   "id": "bea6e09d-d7f9-491b-9c66-5cfd20954628",
   "metadata": {},
   "outputs": [
    {
     "name": "stdout",
     "output_type": "stream",
     "text": [
      "The outlier is meeting nobody, outside in the natural world\n"
     ]
    }
   ],
   "source": [
    "# Beginning to create a story narrative\n",
    "print(\"The outlier is meeting nobody,\", meeting_nobody_where)"
   ]
  },
  {
   "cell_type": "code",
   "execution_count": 149,
   "id": "bb012ed6-93d4-4c1d-9d3a-e63e106b5ed3",
   "metadata": {},
   "outputs": [
    {
     "data": {
      "text/plain": [
       "Text(0.5, 1.0, 'Who would my colleagues rather spend their last 24 hours with?')"
      ]
     },
     "execution_count": 149,
     "metadata": {},
     "output_type": "execute_result"
    },
    {
     "data": {
      "image/png": "[encoded data removed]",
      "text/plain": [
       "<Figure size 640x480 with 1 Axes>"
      ]
     },
     "metadata": {},
     "output_type": "display_data"
    }
   ],
   "source": [
    "# Graphing this Data (with a new styling)\n",
    "plt.style.use('ggplot')\n",
    "\n",
    "plt.hist(Doomsday.Meet, bins=10)\n",
    "plt.xlabel(\"Meeting\")\n",
    "plt.ylabel(\"Number of Colleagues\")\n",
    "plt.title(\"Who would my colleagues rather spend their last 24 hours with?\")"
   ]
  },
  {
   "cell_type": "code",
   "execution_count": 98,
   "id": "a035c50f-d60d-4450-a6de-af2d04bf44cc",
   "metadata": {},
   "outputs": [],
   "source": [
    "# Creating a Group to start a comparision of Data\n",
    "meet_groupings = Doomsday.groupby('Meet')"
   ]
  },
  {
   "cell_type": "code",
   "execution_count": 210,
   "id": "02be76e6-1aea-4180-8bf0-d55258d26455",
   "metadata": {},
   "outputs": [],
   "source": [
    "meeting_family = meet_groupings.get_group('Family')\n",
    "meeting_friends = meet_groupings.get_group('Friends')\n",
    "meeting_partner = meet_groupings.get_group('Partner')\n",
    "meeting_nobody = meet_groupings.get_group('Nobody')"
   ]
  },
  {
   "cell_type": "code",
   "execution_count": 211,
   "id": "1906053e-41f0-4abb-8fd0-81c0bd28ee0c",
   "metadata": {},
   "outputs": [
    {
     "data": {
      "text/plain": [
       "pandas.core.frame.DataFrame"
      ]
     },
     "execution_count": 211,
     "metadata": {},
     "output_type": "execute_result"
    }
   ],
   "source": [
    "# Check accessing the 2D Data Frame\n",
    "type(meeting_family)"
   ]
  },
  {
   "cell_type": "code",
   "execution_count": 178,
   "id": "629c79ff-35b6-48e0-afbf-d725bb86bdf7",
   "metadata": {},
   "outputs": [
    {
     "data": {
      "text/plain": [
       "Text(0.5, 1.0, 'Do my colleagues value their Family or Friends more?')"
      ]
     },
     "execution_count": 178,
     "metadata": {},
     "output_type": "execute_result"
    },
    {
     "data": {
      "image/png": "[encoded data removed]",
      "text/plain": [
       "<Figure size 640x480 with 1 Axes>"
      ]
     },
     "metadata": {},
     "output_type": "display_data"
    }
   ],
   "source": [
    "# Directly comparing two values from this graph - with the line of enquiry as to whether my colleagues value their Family or Friends more\n",
    "plt.hist(meeting_family.Meet, bins=2, label='Meeting Family')\n",
    "plt.hist(meeting_friends.Meet, bins=2, label='Meeting Friends')\n",
    "plt.xlabel(\"Family or Friends\")\n",
    "plt.ylabel(\"Number of Colleagues\")\n",
    "plt.title(\"Do my colleagues value their Family or Friends more?\")"
   ]
  },
  {
   "cell_type": "code",
   "execution_count": 164,
   "id": "08c97cba-6800-44db-a321-0fe22bc686b5",
   "metadata": {},
   "outputs": [],
   "source": [
    "conversation_groupings = Doomsday.groupby('Conversation')"
   ]
  },
  {
   "cell_type": "code",
   "execution_count": 237,
   "id": "ed96a1d7-8add-4ecc-ba15-162c98c10733",
   "metadata": {},
   "outputs": [],
   "source": [
    "conversation_SP = conversation_groupings.get_group('Scientific / Philisophical')\n",
    "conversation_EL = conversation_groupings.get_group('Entertaining / Light-hearted')"
   ]
  },
  {
   "cell_type": "code",
   "execution_count": 120,
   "id": "4cb915c4-2dfe-4e08-aaa9-062c5aae4051",
   "metadata": {},
   "outputs": [
    {
     "data": {
      "text/plain": [
       "pandas.core.frame.DataFrame"
      ]
     },
     "execution_count": 120,
     "metadata": {},
     "output_type": "execute_result"
    }
   ],
   "source": [
    "type(conversation_SP)"
   ]
  },
  {
   "cell_type": "code",
   "execution_count": 235,
   "id": "5e8629ee-5590-4f64-8f1d-a5fc4b5e57cd",
   "metadata": {},
   "outputs": [
    {
     "data": {
      "text/plain": [
       "Text(0.5, 1.0, 'Do my colleagues want the tone of their last conversation to be philisophical or light-hearted?')"
      ]
     },
     "execution_count": 235,
     "metadata": {},
     "output_type": "execute_result"
    },
    {
     "data": {
      "image/png": "[encoded data removed]",
      "text/plain": [
       "<Figure size 640x480 with 1 Axes>"
      ]
     },
     "metadata": {},
     "output_type": "display_data"
    }
   ],
   "source": [
    "# Comparing two values from this graph - To ask the question of whether my colleagues value the last exchange of philosophy vs entertainment\n",
    "plt.hist(conversation_SP.Conversation, bins=2, label='Scientific/Philosophical')\n",
    "plt.hist(conversation_EL.Conversation, bins=2, label='Entertaining/Light-hearted')\n",
    "plt.xlabel(\"Tone of Last Conversation\")\n",
    "plt.ylabel(\"Number of Colleagues\")\n",
    "plt.title(\"Do my colleagues want the tone of their last conversation to be philisophical or light-hearted?\")"
   ]
  },
  {
   "cell_type": "code",
   "execution_count": 212,
   "id": "916909c8-5611-4013-bef0-db649cfc5722",
   "metadata": {},
   "outputs": [],
   "source": [
    "# SP: Scientific/Philisophical EL: Entertaining/Light-hearted\n",
    "# we are getting the groups of family, friends, partner, and nobody, within the Meet heading\n",
    "conversation_SP_Family = conversation_SP.groupby('Meet').get_group('Family')\n",
    "conversation_SP_Friends = conversation_SP.groupby('Meet').get_group('Friends')\n",
    "conversation_SP_Partner = conversation_SP.groupby('Meet').get_group('Partner')\n",
    "conversation_SP_Nobody = conversation_SP.groupby('Meet').get_group('Nobody')"
   ]
  },
  {
   "cell_type": "code",
   "execution_count": 234,
   "id": "651f95c3-158e-41ca-92b0-a8148f2787ae",
   "metadata": {},
   "outputs": [
    {
     "data": {
      "text/plain": [
       "<matplotlib.legend.Legend at 0x1d2db27a780>"
      ]
     },
     "execution_count": 234,
     "metadata": {},
     "output_type": "execute_result"
    },
    {
     "data": {
      "image/png": "[encoded data removed]",
      "text/plain": [
       "<Figure size 640x480 with 1 Axes>"
      ]
     },
     "metadata": {},
     "output_type": "display_data"
    }
   ],
   "source": [
    "# This part is going wrong \n",
    "plt.hist(conversation_SP_Family.Conversation, bins=2, label='Scientific/Philosophical, Family', alpha = 0.2)\n",
    "plt.hist(conversation_SP_Partner.Conversation, bins=2, label='Scientific/Philosophical, Partner', alpha = 1)\n",
    "plt.hist(conversation_SP_Friends.Conversation, bins=2, label='Scientific/Philosophical, Friends', alpha = 1)\n",
    "plt.hist(conversation_SP_Nobody.Conversation, bins=2, label='Scientific/Philosophical, Nobody', alpha = 1)\n",
    "\n",
    "plt.xlabel(\"Tone of Last Conversation\")\n",
    "plt.ylabel(\"Number of Colleagues\")\n",
    "\n",
    "plt.legend()"
   ]
  },
  {
   "cell_type": "code",
   "execution_count": 232,
   "id": "8bcb866c-7954-4f2c-8cfd-5b74fd83d7fa",
   "metadata": {},
   "outputs": [],
   "source": [
    "# Within colleagues who chose to spend the time with family, did they prefer light-hearted or philosophical\n",
    "conversation_EL_Family = conversation_EL.groupby('Meet').get_group('Family')\n",
    "conversation_SP_Family = conversation_SP.groupby('Meet').get_group('Family')"
   ]
  },
  {
   "cell_type": "code",
   "execution_count": 233,
   "id": "569b5332-f08b-4ed6-9ce8-794b81bc23ae",
   "metadata": {},
   "outputs": [
    {
     "data": {
      "text/plain": [
       "<matplotlib.legend.Legend at 0x1d2db2aeed0>"
      ]
     },
     "execution_count": 233,
     "metadata": {},
     "output_type": "execute_result"
    },
    {
     "data": {
      "image/png": "[encoded data removed]",
      "text/plain": [
       "<Figure size 640x480 with 1 Axes>"
      ]
     },
     "metadata": {},
     "output_type": "display_data"
    }
   ],
   "source": [
    "plt.hist(conversation_EL_Family.Conversation, bins=2, label='Emotional/Light-hearted, Family')\n",
    "plt.hist(conversation_SP_Family.Conversation, bins=2, label='Scientific/Philosophical, Family')\n",
    "\n",
    "plt.xlabel(\"Tone of Last Conversation\")\n",
    "plt.ylabel(\"Number of Colleagues\")\n",
    "plt.legend()"
   ]
  }
 ],
 "metadata": {
  "kernelspec": {
   "display_name": "Python 3 (ipykernel)",
   "language": "python",
   "name": "python3"
  },
  "language_info": {
   "codemirror_mode": {
    "name": "ipython",
    "version": 3
   },
   "file_extension": ".py",
   "mimetype": "text/x-python",
   "name": "python",
   "nbconvert_exporter": "python",
   "pygments_lexer": "ipython3",
   "version": "3.12.0"
  }
 },
 "nbformat": 4,
 "nbformat_minor": 5
}
