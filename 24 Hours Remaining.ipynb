{
 "cells": [
  {
   "cell_type": "code",
   "execution_count": 6,
   "id": "09ca6ac2-3df3-4913-a771-74ecbb138556",
   "metadata": {},
   "outputs": [],
   "source": [
    "#created a virtual env and installed required libs\n",
    "import pandas as pd\n",
    "import matplotlib.pyplot as plt\n",
    "#%pylab was deprecated, so I have installed matplotlib inline\n",
    "%matplotlib inline"
   ]
  },
  {
   "cell_type": "code",
   "execution_count": null,
   "id": "2a9890d1-3138-4faa-8c12-36106a813965",
   "metadata": {},
   "outputs": [],
   "source": []
  }
 ],
 "metadata": {
  "kernelspec": {
   "display_name": "Python 3 (ipykernel)",
   "language": "python",
   "name": "python3"
  },
  "language_info": {
   "codemirror_mode": {
    "name": "ipython",
    "version": 3
   },
   "file_extension": ".py",
   "mimetype": "text/x-python",
   "name": "python",
   "nbconvert_exporter": "python",
   "pygments_lexer": "ipython3",
   "version": "3.12.0"
  }
 },
 "nbformat": 4,
 "nbformat_minor": 5
}
