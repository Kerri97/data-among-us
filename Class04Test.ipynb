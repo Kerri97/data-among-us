{
 "cells": [
  {
   "cell_type": "code",
   "execution_count": 8,
   "id": "ad57dcc4-e33c-4918-95a5-9df1f338247b",
   "metadata": {},
   "outputs": [],
   "source": [
    "import csv"
   ]
  },
  {
   "cell_type": "code",
   "execution_count": 18,
   "id": "01dfd691-45a3-4fe0-867a-57f08124ee1c",
   "metadata": {},
   "outputs": [],
   "source": [
    "# renaming pandas to a shorter name\n",
    "import pandas as pd"
   ]
  },
  {
   "cell_type": "code",
   "execution_count": 12,
   "id": "e7bc33f5-ec23-4858-9aa0-bd1d58c5afea",
   "metadata": {},
   "outputs": [],
   "source": [
    "#f is a var name, short for file\n",
    "with open('DemoTable.csv', newline='') as csvfile: \n",
    "    # csv_reader is going to read our file line by line \n",
    "    csv_reader = csv.reader(csvfile)\n",
    "    data = [] # this will hold all of the rows\n",
    "    for row in csv_reader:\n",
    "        data.append(row)"
   ]
  },
  {
   "cell_type": "code",
   "execution_count": 13,
   "id": "a8d45c5d-9217-4385-873e-cec43c2e597a",
   "metadata": {},
   "outputs": [
    {
     "data": {
      "text/plain": [
       "[['Timestamp',\n",
       "  'animal',\n",
       "  'years',\n",
       "  'How do you travel to WPP?',\n",
       "  'How do you spend your time during your commute?'],\n",
       " ['8/30/2022 17:24:41', 'Dog', '0', 'Underground', 'Listening to a Podcast'],\n",
       " ['8/30/2022 17:39:04',\n",
       "  'Dog',\n",
       "  '7',\n",
       "  'Bike',\n",
       "  \"Focusing on the road because I'm biking!\"],\n",
       " ['8/30/2022 18:03:17', 'Dog', '5', 'Underground', 'Social Media']]"
      ]
     },
     "execution_count": 13,
     "metadata": {},
     "output_type": "execute_result"
    }
   ],
   "source": [
    "data"
   ]
  },
  {
   "cell_type": "code",
   "execution_count": 15,
   "id": "7a04dd0a-46ab-4ba9-b979-c220334217ed",
   "metadata": {},
   "outputs": [
    {
     "data": {
      "text/plain": [
       "3"
      ]
     },
     "execution_count": 15,
     "metadata": {},
     "output_type": "execute_result"
    }
   ],
   "source": [
    "# how many people completed this, -1 because the first row is header data\n",
    "len(data)-1"
   ]
  },
  {
   "cell_type": "code",
   "execution_count": 19,
   "id": "4aebb8bc-82e9-4563-9e14-26ba07cc73b1",
   "metadata": {},
   "outputs": [],
   "source": [
    "df= pd.DataFrame.from_dict(data) #pandas has whats called a data frame (df), like an excel spreadsheet it is a 2d structure"
   ]
  },
  {
   "cell_type": "code",
   "execution_count": 20,
   "id": "70c8b225-ea4d-4aa4-8153-ec0d0746eec9",
   "metadata": {},
   "outputs": [
    {
     "name": "stdout",
     "output_type": "stream",
     "text": [
      "                    0       1      2                          3  \\\n",
      "0           Timestamp  animal  years  How do you travel to WPP?   \n",
      "1  8/30/2022 17:24:41     Dog      0                Underground   \n",
      "2  8/30/2022 17:39:04     Dog      7                       Bike   \n",
      "3  8/30/2022 18:03:17     Dog      5                Underground   \n",
      "\n",
      "                                                 4  \n",
      "0  How do you spend your time during your commute?  \n",
      "1                           Listening to a Podcast  \n",
      "2         Focusing on the road because I'm biking!  \n",
      "3                                     Social Media  \n"
     ]
    }
   ],
   "source": [
    "print(df)"
   ]
  },
  {
   "cell_type": "code",
   "execution_count": 24,
   "id": "aaa47356-324a-4b6b-9d7f-712891a7c550",
   "metadata": {},
   "outputs": [
    {
     "name": "stdout",
     "output_type": "stream",
     "text": [
      "Underground\n",
      "Bike\n",
      "Underground\n"
     ]
    }
   ],
   "source": [
    "# by starting at index 1 I skip over the header data\n",
    "for row in data[1:]:\n",
    "    print(row[3])"
   ]
  },
  {
   "cell_type": "code",
   "execution_count": 27,
   "id": "c6107384-e114-485a-9d44-f5d89133af37",
   "metadata": {},
   "outputs": [
    {
     "data": {
      "text/plain": [
       "{'Underground': 2, 'Bike': 1}"
      ]
     },
     "execution_count": 27,
     "metadata": {},
     "output_type": "execute_result"
    }
   ],
   "source": [
    "# I could use a dictionary and count how many people chose each option\n",
    "\n",
    "commuting_choices = {} # create an empty dictionary\n",
    "for row in data[1:]:\n",
    "    curr_choice = row[3]                      # commuting_choice represents the option selected for this row (ie person) \n",
    "    if curr_choice in commuting_choices:      # see if that choice is already in the dictionary\n",
    "        commuting_choices[curr_choice] += 1   # if it already exists, add one\n",
    "    else:\n",
    "        commuting_choices[curr_choice] = 1    # else, add it to the dictionary and initialize it to one (because so far, one person selected this option)\n",
    "        \n",
    "commuting_choices"
   ]
  },
  {
   "cell_type": "code",
   "execution_count": 28,
   "id": "50e7296e-4ac9-4f87-81f1-9eb2db9c6c36",
   "metadata": {},
   "outputs": [],
   "source": [
    "#headers = next"
   ]
  },
  {
   "cell_type": "code",
   "execution_count": null,
   "id": "3b49babc-c1de-4751-adde-c5f2c07d2b73",
   "metadata": {},
   "outputs": [],
   "source": []
  }
 ],
 "metadata": {
  "kernelspec": {
   "display_name": "Python 3 (ipykernel)",
   "language": "python",
   "name": "python3"
  },
  "language_info": {
   "codemirror_mode": {
    "name": "ipython",
    "version": 3
   },
   "file_extension": ".py",
   "mimetype": "text/x-python",
   "name": "python",
   "nbconvert_exporter": "python",
   "pygments_lexer": "ipython3",
   "version": "3.12.0"
  }
 },
 "nbformat": 4,
 "nbformat_minor": 5
}
